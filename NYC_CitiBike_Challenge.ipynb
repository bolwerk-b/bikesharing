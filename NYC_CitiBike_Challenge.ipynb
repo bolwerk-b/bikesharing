{
 "cells": [
  {
   "cell_type": "code",
   "execution_count": null,
   "id": "f76f2a03",
   "metadata": {},
   "outputs": [],
   "source": [
    "import pandas as pd\n",
    "import datetime as dt"
   ]
  },
  {
   "cell_type": "code",
   "execution_count": null,
   "id": "e4b7ca63",
   "metadata": {},
   "outputs": [],
   "source": [
    "# 1. Create a DataFrame for the 201908-citibike-tripdata data. \n",
    "df = pd.read_csv('201908-citibike-tripdata.csv')"
   ]
  },
  {
   "cell_type": "code",
   "execution_count": null,
   "id": "eab23b2e",
   "metadata": {},
   "outputs": [],
   "source": [
    "# 2. Check the datatypes of your columns. \n",
    "df.dtypes"
   ]
  },
  {
   "cell_type": "code",
   "execution_count": null,
   "id": "4e3940a0",
   "metadata": {},
   "outputs": [],
   "source": [
    "# 3. Convert the 'tripduration' column to datetime datatype.\n",
    "tripduration_convert=df.tripduration\n",
    "#print(tripduration_convert)\n",
    "\n",
    "tripduration_convert_dt = pd.to_datetime(tripduration_convert, unit='m')\n",
    "#print(tripduration_convert_dt)\n",
    "\n",
    "#new column for converted trip duration\n",
    "df['tripduration'] = tripduration_convert_dt\n",
    "#print(df)"
   ]
  },
  {
   "cell_type": "code",
   "execution_count": null,
   "id": "d75ad943",
   "metadata": {},
   "outputs": [],
   "source": [
    "# 4. Check the datatypes of your columns. \n",
    "df.info()"
   ]
  },
  {
   "cell_type": "code",
   "execution_count": null,
   "id": "8e190143",
   "metadata": {},
   "outputs": [],
   "source": [
    "# 5. Export the Dataframe as a new CSV file without the index.\n",
    "df.to_csv('challenge-clean.csv',index=False)"
   ]
  },
  {
   "cell_type": "code",
   "execution_count": null,
   "id": "56fd03c1",
   "metadata": {},
   "outputs": [],
   "source": [
    "df"
   ]
  },
  {
   "cell_type": "code",
   "execution_count": null,
   "id": "51d67cfd",
   "metadata": {},
   "outputs": [],
   "source": []
  }
 ],
 "metadata": {
  "kernelspec": {
   "display_name": "PythonData",
   "language": "python",
   "name": "pythondata"
  },
  "language_info": {
   "codemirror_mode": {
    "name": "ipython",
    "version": 3
   },
   "file_extension": ".py",
   "mimetype": "text/x-python",
   "name": "python",
   "nbconvert_exporter": "python",
   "pygments_lexer": "ipython3",
   "version": "3.7.13"
  }
 },
 "nbformat": 4,
 "nbformat_minor": 5
}
